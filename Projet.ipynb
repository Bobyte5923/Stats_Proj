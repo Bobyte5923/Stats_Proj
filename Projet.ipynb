{
 "cells": [
  {
   "cell_type": "markdown",
   "metadata": {},
   "source": [
    "<div style=\"padding:10px;border-left:10px solid #9999ff; border-radius:5px\">\n",
    "\n",
    "# Best video games from 1952 to 2029\n",
    "\n",
    "<img src=\"images/he-arc.png\"  width=\"200\" style=\"background-color:white ; padding: 10px\">\n",
    "\n",
    "### MAS-RAD CAS-IDD Data processing and visualization with Python\n",
    "\n",
    "#### Teacher : Benoit Le Callennec\n",
    "#### Authors : Ayman Akram & Rafael Teixeira\n",
    "\n",
    "All rights reserved\n",
    "</div>"
   ]
  },
  {
   "cell_type": "markdown",
   "metadata": {},
   "source": [
    "<div style=\"padding:10px;border-left:10px solid #9999ff; border-radius:5px\">\n",
    "\n",
    "## Initialisation of the project\n",
    "\n",
    "Before running the notebook, make sure the dependencies have been installed. See the [README file](README.md) for instructions\n",
    "\n",
    "</div>"
   ]
  },
  {
   "cell_type": "markdown",
   "metadata": {},
   "source": [
    "<div style=\"padding:10px;border-left:10px solid #9999ff; border-radius:5px;\">\n",
    "\n",
    "## Table of contents\n",
    "\n",
    "- [Introduction](#introduction)\n",
    "- [Data import and cleaning](#data-important-and-cleaning)\n",
    "- [Data analysis](#data-analysis)\n",
    "  - [Number of games per genre](#number-of-games-per-genre)\n",
    "  - [Most played games](#most-played-games)\n",
    "  - [Success per genre over the years](#success-per-genre-over-the-years)\n",
    "- [Summary](#summary)\n",
    "- [Limitations and perspectives](#limitations-and-perspectives)\n",
    "\n",
    "</div>"
   ]
  },
  {
   "cell_type": "markdown",
   "metadata": {},
   "source": [
    "<div style=\"padding:10px;border-left:10px solid #9999ff; border-radius:5px\">\n",
    "\n",
    "## Introduction\n",
    "\n",
    "We want to statistically analyze a dataset of video games, answering questions about their characteristics, popularity and evolution over time. We also want to extract key information about their genres, popularity and various correlations.\n",
    "\n",
    "</div>"
   ]
  },
  {
   "cell_type": "markdown",
   "metadata": {},
   "source": [
    "<div style=\"padding:10px;border-left:10px solid #9999ff; border-radius:5px\">\n",
    "\n",
    "## Data import and cleaning\n",
    "Import the data from kaggle [(link to data)](https://www.kaggle.com/datasets/matheusfonsecachaves/popular-video-games/data?select=backloggd_games.csv).\n",
    "\n",
    "If an error succeeds during data download, a fallback file is used. This file contains a previous version of the data and so, it may not be up to date.\n",
    "\n",
    "</div>"
   ]
  },
  {
   "cell_type": "markdown",
   "metadata": {},
   "source": [
    "<div style=\"padding:10px;border-left:10px solid #9999ff; border-radius:5px\">\n",
    "\n",
    "### Load data and store it in pandas DataFrame\n",
    "</div>"
   ]
  },
  {
   "cell_type": "code",
   "execution_count": null,
   "metadata": {},
   "outputs": [],
   "source": [
    "# Import all dependencies\n",
    "import os\n",
    "import re\n",
    "import kagglehub\n",
    "import pandas as pd\n",
    "import numpy as np\n",
    "import ipywidgets as ipw\n",
    "import matplotlib.pyplot as plt\n",
    "import IPython"
   ]
  },
  {
   "cell_type": "code",
   "execution_count": null,
   "metadata": {},
   "outputs": [],
   "source": [
    "file_path = \"\"\n",
    "FILE_NAME = \"backloggd_games.csv\"\n",
    "FALLBACK_PATH = \"Datasets/\"\n",
    "\n",
    "try:\n",
    "    # Download last version of dataset from kaggle\n",
    "    path = kagglehub.dataset_download(\"matheusfonsecachaves/popular-video-games\")\n",
    "    print(\"Last version of file successfully loaded from kaggle.\")\n",
    "    file_path = path + \"\\\\\" + FILE_NAME\n",
    "\n",
    "except:\n",
    "    # If an exception is raised when downloading last version of dataset, the locally saved version is used. It may no be up to date\n",
    "    print(\"Last version could not be successfully loaded from kaggle.\\nThe locally saved dataset will be used but it may not be up to date.\")\n",
    "    file_path = FALLBACK_PATH + FILE_NAME\n",
    "\n",
    "print(\"Path to dataset file:\", file_path)\n",
    "\n",
    "if os.path.exists(file_path):\n",
    "    df = pd.read_csv(file_path)\n",
    "\n",
    "else:\n",
    "    print(\"The file does not exist. Check the path or place the file in the correct location.\")"
   ]
  },
  {
   "cell_type": "markdown",
   "metadata": {},
   "source": [
    "<div style=\"padding:10px;border-left:10px solid #9999ff; border-radius:5px\">\n",
    "\n",
    "### Data basic verifications\n",
    "\n",
    "</div>"
   ]
  },
  {
   "cell_type": "code",
   "execution_count": null,
   "metadata": {},
   "outputs": [],
   "source": [
    "# Data basic verification : shape of dataFrame, columns informations and head\n",
    "print(\"DataFrame shape : \" + str(df.shape)) # row and columns\n",
    "print(\"DataFrame info :\")\n",
    "df.info()\n",
    "print(\"DataFrame head :\")\n",
    "print(df.head(6)) # Preview"
   ]
  },
  {
   "cell_type": "markdown",
   "metadata": {},
   "source": [
    "<div style=\"padding:10px;border-left:10px solid #9999ff; border-radius:5px\">\n",
    "\n",
    "### Null data and duplicates analysis\n",
    "\n",
    "</div>"
   ]
  },
  {
   "cell_type": "code",
   "execution_count": null,
   "metadata": {},
   "outputs": [],
   "source": [
    "# Null verification\n",
    "df.isnull().sum()"
   ]
  },
  {
   "cell_type": "code",
   "execution_count": null,
   "metadata": {},
   "outputs": [],
   "source": [
    "df.duplicated().sum()"
   ]
  },
  {
   "cell_type": "markdown",
   "metadata": {},
   "source": [
    "<div style=\"padding:10px;border-left:10px solid #9999ff; border-radius:5px\">\n",
    "\n",
    "There is no duplicate entry in the dataset.\n",
    "\n",
    "</div>"
   ]
  },
  {
   "cell_type": "markdown",
   "metadata": {},
   "source": [
    "<div style=\"padding:10px;border-left:10px solid #9999ff; border-radius:5px\">\n",
    "\n",
    "### Convert date column values to numpy date\n",
    "\n",
    "The Release_Date column contains dates with the following format.\n",
    "\n",
    "For example 2 February 2023 will be Feb 02, 2023.\n",
    "\n",
    "To work with those dates, they must be converted to a more convenient format such as numpy date.\n",
    "\n",
    "When analysing the data of this column, some undefined dates can be found. Their value is 'TBD' and we choose to turn it to Nan so it is easier to remove when needed.\n",
    "\n",
    "The column \"Release_Date\" values are replaced by their equivalent numpy date value or by numpy.nan if they do not match the defined date pattern.\n",
    "\n",
    "</div>"
   ]
  },
  {
   "cell_type": "code",
   "execution_count": null,
   "metadata": {},
   "outputs": [],
   "source": [
    "# Regex values for date string\n",
    "DATE_REGEX = re.compile(r'[A-Z]{3} \\d\\d, \\d{4}', re.I)\n",
    "MONTH_REGEX = re.compile(r'[A-Z]{3}', re.I)\n",
    "DAY_REGEX = re.compile(r'\\d{2}(?=,)')\n",
    "YEAR_REGEX = re.compile(r'(\\d{4}$)')\n",
    "\n",
    "# Dictionnary to convert month string to month number\n",
    "MONTH_DICT = {\"jan\":1,\"feb\":2,\"mar\":3,\"apr\":4,\"may\":5,\"jun\":6,\"jul\":7,\"aug\":8,\"sep\":9,\"oct\":10,\"nov\":11,\"dec\":12}\n",
    "\n",
    "def mapMonth(dateStr):\n",
    "    # Converts month string to number\n",
    "    global DATE_REGEX\n",
    "    matches = re.match(DATE_REGEX, dateStr)\n",
    "    if matches:\n",
    "        return convertToNumpyDate(matches[0])\n",
    "    else:\n",
    "        return np.nan\n",
    "\n",
    "def convertToNumpyDate(dateStr):\n",
    "    # Converts date string to numpy date\n",
    "    global MONTH_REGEX, DAY_REGEX, YEAR_REGEX, MONTH_DICT\n",
    "    # Find month :\n",
    "    monthStr = re.search(MONTH_REGEX, dateStr)[0].lower()\n",
    "    month = MONTH_DICT[monthStr]\n",
    "    day = int(re.search(DAY_REGEX, dateStr)[0])\n",
    "    year = int(re.search(YEAR_REGEX, dateStr)[0])\n",
    "    return np.datetime64(f\"{year}-{month:02d}-{day:02d}\")\n",
    "\n",
    "\n",
    "df['Release_date_converted'] = df['Release_Date'].map(mapMonth)\n",
    "df.info()\n",
    "\n",
    "print(\"\")\n",
    "print(\"Before conversion : \" + df['Release_Date'][0])\n",
    "print(\"After conversion : \" + str(df['Release_date_converted'][0]))"
   ]
  },
  {
   "cell_type": "markdown",
   "metadata": {},
   "source": [
    "<div style=\"padding:10px;border-left:10px solid #9999ff; border-radius:5px\">\n",
    "\n",
    "### Convert Plays from string to number\n",
    "The data in 'Plays' column is at string format of type 2K, 2M, etc.\n",
    "\n",
    "We convert those values to number, removing the suffix K or M and multiplying by the right multiplier (1'000 or 1'000'000).\n",
    "\n",
    "</div>"
   ]
  },
  {
   "cell_type": "code",
   "execution_count": null,
   "metadata": {},
   "outputs": [],
   "source": [
    "print(\"Before conversion : \" + str(df['Plays'][0]))\n",
    "\n",
    "def parse_play_count(x):\n",
    "    # Convert K and M abbreviations to integers\n",
    "    x = str(x).replace(',', '').strip().upper()\n",
    "    if x.endswith('K'):\n",
    "        return int(float(x[:-1]) * 1_000)\n",
    "    elif x.endswith('M'):\n",
    "        return int(float(x[:-1]) * 1_000_000)\n",
    "    elif x.isdigit():\n",
    "        return int(x)\n",
    "    else:\n",
    "        return None  # to invalid values\n",
    "\n",
    "df['Plays'] = df['Plays'].apply(parse_play_count)\n",
    "print(\"After conversion : \" + str(df['Plays'][0]))"
   ]
  },
  {
   "cell_type": "markdown",
   "metadata": {},
   "source": [
    "<div style=\"padding:10px;border-left:10px solid #9999ff; border-radius:5px\">\n",
    "\n",
    "### Drop unused colums\n",
    "\n",
    "</div>"
   ]
  },
  {
   "cell_type": "code",
   "execution_count": null,
   "metadata": {},
   "outputs": [],
   "source": [
    "try :\n",
    "    df.drop([\"Developers\", \"Summary\", \"Platforms\", \"Playing\", \"Backlogs\", \"Wishlist\", \"Lists\"], axis=1, inplace=True)\n",
    "except Exception as e:\n",
    "    print(\"An error was raised. It could be because columns have already been erased.\")\n",
    "    print(e)\n",
    "df.shape"
   ]
  },
  {
   "cell_type": "markdown",
   "metadata": {},
   "source": [
    "<div style=\"padding:10px;border-left:10px solid #9999ff; border-radius:5px\">\n",
    "\n",
    "## Data analysis\n",
    "\n",
    "</div>"
   ]
  },
  {
   "cell_type": "markdown",
   "metadata": {},
   "source": [
    "<div style=\"padding:10px;border-left:10px solid #9999ff; border-radius:5px\">\n",
    "\n",
    "### Number of games per genre\n",
    "This analysis explores the distribution of video games across different genres, using the \"Genres\" column.\n",
    "Since a game can belong to multiple genres, the data is cleaned and split accordingly to identify the most frequently occurring genres.\n",
    "This helps highlight industry trends in game development (e.g., Adventure, Indie, RPG, etc.).\n",
    "\n",
    "</div>"
   ]
  },
  {
   "cell_type": "code",
   "execution_count": null,
   "metadata": {},
   "outputs": [],
   "source": [
    "# Remove missing values, convert to string, and clean characters like [], '\n",
    "all_genres = df['Genres'].dropna().astype(str).str.replace(r'[\\[\\]\\']', '', regex=True)\n",
    "\n",
    "# Split genres by comma, explode into rows, and strip whitespace\n",
    "all_genres = all_genres.str.split(',').explode().str.strip()\n",
    "\n",
    "# Remove empty genres\n",
    "all_genres = all_genres[all_genres != \"\"]\n",
    "\n",
    "# Count occurrences\n",
    "genre_counts = all_genres.value_counts()\n",
    "print(\"Number of games per genre :\\n\", genre_counts.head(10))\n",
    "\n",
    "# Widget to select how many genres to display\n",
    "top_n_slider1 = ipw.IntSlider(value=10, min=1, max=23, step=1, description='Top Game Genres:')\n",
    "\n",
    "# Graphical\n",
    "def plot_top_n1(n):\n",
    "    plt.figure(figsize=(8, 4))\n",
    "    genre_counts.head(n).plot(kind='bar')\n",
    "    plt.title(f\"Top {n} Game Genres\")\n",
    "    plt.xlabel(\"Genre\")\n",
    "    plt.ylabel(\"Number of games\")\n",
    "    plt.xticks(rotation=0)\n",
    "    plt.tight_layout()\n",
    "    # plt.show()\n",
    "\n",
    "\n",
    "# Binding and display\n",
    "IPython.display.display(ipw.VBox([top_n_slider1, ipw.interactive_output(plot_top_n1, {'n': top_n_slider1})]))"
   ]
  },
  {
   "cell_type": "markdown",
   "metadata": {},
   "source": [
    "<div style=\"padding:10px;border-left:10px solid #9999ff; border-radius:5px\">\n",
    "\n",
    "We see that video games that are of the adventure and indie genre are produced much more than other genres.\n",
    "\n",
    "</div>"
   ]
  },
  {
   "cell_type": "markdown",
   "metadata": {},
   "source": [
    "<div style=\"padding:10px;border-left:10px solid #9999ff; border-radius:5px\">\n",
    "\n",
    "### Most played games\n",
    "This section focuses on game popularity, measured via the \"Plays\" column in combination with \"Title\".\n",
    "We then identify the most played games, giving insight into what players engage with the most. Minecraft being the standout leader.\n",
    "\n",
    "</div>"
   ]
  },
  {
   "cell_type": "code",
   "execution_count": null,
   "metadata": {},
   "outputs": [],
   "source": [
    "\n",
    "# Widget to select how many genres to display\n",
    "top_n_slider2 = ipw.IntSlider(value=10, min=1, max=100, step=1, description='Top Played Games:')\n",
    "\n",
    "# Graphical\n",
    "def plot_top_n2(n):\n",
    "    top_df = df[['Title', 'Plays']] \\\n",
    "        .sort_values(by='Plays', ascending=False) \\\n",
    "        .head(n)\n",
    "\n",
    "    plt.figure(figsize=(12, 10))\n",
    "    plt.bar(top_df['Title'], top_df['Plays'])\n",
    "    plt.title(f\"Top {n} Most played games\")\n",
    "    plt.xlabel(\"Title of games\")\n",
    "    plt.ylabel(\"Number of games\")\n",
    "    plt.xticks(rotation=45, ha='right')\n",
    "    plt.tight_layout()\n",
    "    # plt.show()\n",
    "\n",
    "# Binding and display\n",
    "IPython.display.display(ipw.VBox([top_n_slider2, ipw.interactive_output(plot_top_n2, {'n': top_n_slider2})]))\n"
   ]
  },
  {
   "cell_type": "markdown",
   "metadata": {},
   "source": [
    "<div style=\"padding:10px;border-left:10px solid #9999ff; border-radius:5px\">\n",
    "\n",
    "We see that the most played game is Minecraft, it is the one that allows the greatest creativity and the most freedom.\n",
    "\n",
    "</div>"
   ]
  },
  {
   "cell_type": "markdown",
   "metadata": {},
   "source": [
    "<div style=\"padding:10px;border-left:10px solid #9999ff; border-radius:5px\">\n",
    "\n",
    "### Success per genre over the years\n",
    "\n",
    "To determine the succes of a game, we consider the number of plays it has and its rating.\n",
    "\n",
    "To calculate a success score, the following formula is used :\n",
    "\n",
    "success_score = rating^4 * plays^0.5\n",
    "\n",
    "Using a power 4 on \"rating\", increases \"rating\" weight on success score.\n",
    "\n",
    "On the contrary, a power of 0.5 on \"plays\", decreases \"plays\" weight on success score.\n",
    "\n",
    "</div>"
   ]
  },
  {
   "cell_type": "code",
   "execution_count": null,
   "metadata": {},
   "outputs": [],
   "source": [
    "# Sort by Release date\n",
    "df.sort_values(\"Release_date_converted\", inplace=True)\n",
    "\n",
    "# Calculate Success_score for each game\n",
    "df['Weighted_rating'] = df[\"Rating\"]**4\n",
    "df['Weighted_number_plays'] = df[\"Plays\"]**0.5\n",
    "df['Success_score'] = df['Weighted_rating'] * df['Weighted_number_plays']\n",
    "\n",
    "# Get a copy of the dataframe, drop Nan values and replace\n",
    "success_score_and_genre_per_date = df[['Release_date_converted','Genres', 'Success_score']].dropna()\n",
    "\n",
    "genres = df['Genres'].str.replace(r'[\\[\\]\\']', '', regex=True).str.split(',').explode().str.strip().drop_duplicates().sort_values()\n",
    "\n",
    "comparison_mode_widget = ipw.ToggleButton(value=False, description=\"Comparison mode\")\n",
    "genre_dropdown = ipw.Dropdown(options=genres, description=\"Genre 1:\")\n",
    "genre_dropdown_2 = ipw.Dropdown(options=genres, description=\"Genre 2:\")\n",
    "\n",
    "def getSuccessScoresByGenre(dataframe, genre):\n",
    "    # Function to filter dataframe keeping only the lines where column 'Genres' contains wanted genre\n",
    "    filtered = dataframe[dataframe[\"Genres\"].map(lambda x: genre in x)]\n",
    "    return filtered\n",
    "\n",
    "\n",
    "def plotChart(comparison_mode, genre1, genre2):\n",
    "    # Function to plot the chart\n",
    "    global success_score_and_genre_per_date, genre_dropdown_2\n",
    "\n",
    "    # Enable/Disable genre2 dropdown based on comparison mode value\n",
    "    genre_dropdown_2.disabled = not comparison_mode\n",
    "\n",
    "    # Get filtered values for genre 1 and group by year\n",
    "    filtered = getSuccessScoresByGenre(success_score_and_genre_per_date, genre1)\n",
    "    success_score_per_year_genre1 = filtered['Success_score'].groupby(filtered['Release_date_converted'].dt.to_period(\"Y\")).sum()\n",
    "    # Convert years to int and plot for genre 1\n",
    "    success_score_per_year_genre1.index = success_score_per_year_genre1.index.astype(\"str\").astype(\"int64\")\n",
    "    plt.plot(success_score_per_year_genre1.index, success_score_per_year_genre1.values)\n",
    "    # Change empty genre value to \"All genre\" to have a more meaningful legend and title\n",
    "    if not genre1:\n",
    "        genre1 = \"All genre\"\n",
    "\n",
    "    if comparison_mode:\n",
    "        # Get filtered values for genre 2 and group by year\n",
    "        filtered = getSuccessScoresByGenre(success_score_and_genre_per_date, genre2)\n",
    "        success_score_per_year_genre2 = filtered['Success_score'].groupby(filtered['Release_date_converted'].dt.to_period(\"Y\")).sum()\n",
    "        # Convert years to int and plot for genre 2\n",
    "        success_score_per_year_genre2.index = success_score_per_year_genre2.index.astype(\"str\").astype(\"int64\")\n",
    "        plt.plot(success_score_per_year_genre2.index, success_score_per_year_genre2.values)\n",
    "        # Change empty genre value to \"All genre\" to have a more meaningful legend and title\n",
    "        if not genre2:\n",
    "            genre2 = \"All genre\"\n",
    "\n",
    "\n",
    "    # Update chart informations\n",
    "    if comparison_mode:\n",
    "        title = \"Success of '\" + genre1 + \"' games vs '\" + genre2 + \"' games over the years\"\n",
    "    else:\n",
    "        title = \"Success of '\" + genre1 + \"' games over the years\"\n",
    "\n",
    "    plt.title(title)\n",
    "    plt.xlabel(\"Release year\")\n",
    "    plt.ylabel(\"Success score\")\n",
    "    plt.legend([genre1, genre2])\n",
    "    plt.tight_layout()\n",
    "\n",
    "ipw.interact(plotChart, comparison_mode=comparison_mode_widget, genre1=genre_dropdown, genre2=genre_dropdown_2)"
   ]
  },
  {
   "cell_type": "markdown",
   "metadata": {},
   "source": [
    "<div style=\"padding:10px;border-left:10px solid #9999ff; border-radius:5px\">\n",
    "\n",
    "The above analysis shows that the success score drops after 2020.\n",
    "This drop can probably be explained with different causes.\n",
    "\n",
    "The analyzed dataset most recent games were released in 2023.\n",
    "\n",
    "We can quickly analyze when the 'Plays' value seems to start dropping (see chart below).\n",
    "\n",
    "We can see that 'Plays' start dropping after 2017. We can make the hypothesis that data of games released after 2017 is not complete or those the games are too recent to be compared to older games.\n",
    "\n",
    "</div>"
   ]
  },
  {
   "cell_type": "code",
   "execution_count": null,
   "metadata": {},
   "outputs": [],
   "source": [
    "plays_per_year = df['Plays'].groupby(df['Release_date_converted'].dt.to_period(\"Y\")).sum()\n",
    "plays_per_year.plot(kind=\"line\", marker= 'o')\n",
    "plt.xlabel(\"Release year\")\n",
    "plt.ylabel(\"Number of plays\")"
   ]
  },
  {
   "cell_type": "markdown",
   "metadata": {},
   "source": [
    "<div style=\"padding:10px;border-left:10px solid #9999ff; border-radius:5px\">\n",
    "\n",
    "## Summary\n",
    "\n",
    "Using the dataset 'Popular Video Games' from Matheus Fonseca Chaves posted on kaggle.com ([Link](https://www.kaggle.com/datasets/matheusfonsecachaves/popular-video-games/data?select=backloggd_games.csv)), we tried to show interesting facts about video games genres released from 1952 to 2023.\n",
    "\n",
    "Before the analysis, we cleaned the data from unwanted columns and converted some values to make them usable for analysis :\n",
    "\n",
    "- Conversion of the 'Number of plays' : Expressed with thousand and million suffixes (e.g. 24K), we converted it to numbers so the values can be user for calculation and chart representation.\n",
    "- Conversion of 'Release date' : Expressed in a string of type \"Feb 25, 2022\", we converted it to numpy dates so they can be used to calculate and plot values based on date.\n",
    "\n",
    "We then analysed and plot data in 3 ways :\n",
    "- Number of games per genre\n",
    "- Most played games\n",
    "- Success per genre over the years\n",
    "\n",
    "\n",
    "The \"number of games per genre\" analysis shows which genres have the most released number of games. The results show that Adventure games and Indie games are the most released genres.\n",
    "\n",
    "\n",
    "The \"most played games\" analysis sorts the games by 'number of plays'. It shows that Minecraft and The Legend of Zelda : Breath of the Wild are the most played games of all time.\n",
    "\n",
    "\n",
    "The \"success per genre over the years\" analysis calculates a \"success score\" for each game based on rating and number of plays.\n",
    "\n",
    "The analysis allows the user to show the evolution of a genres success over time and to compare between 2 genres.\n",
    "\n",
    "This last analysis shows that the \"success\" globally drops after 2017. We have 2 hypothesis to explain this drop :\n",
    "1. Recent games have less \"plays\" than long established games\n",
    "2. Most recent released games may have incomplete data\n",
    "\n",
    "Also, there seems to be some \"strange\" data in the dataset. For example, a game released in 2029 is present (the title pun is based on that entry). Some very old games are also present in the data but some years are empty. We know that the video game industry has really grown after the 80's but if a game released in 1952 is mentioned, we may think that some games from 1952 to 1980 may not be included in the dataset.\n",
    "\n",
    "</div>"
   ]
  },
  {
   "cell_type": "markdown",
   "metadata": {},
   "source": [
    "<div style=\"padding:10px;border-left:10px solid #9999ff; border-radius:5px\">\n",
    "\n",
    "## Limitations and perspectives\n",
    "\n",
    "This dataset has some limitations.\n",
    "\n",
    "Ratings are missing for almost 50% of the games making it difficult to base analysis on this property.\n",
    "\n",
    "The dataset is not automatically updated based, for example, on vendors or distributors data. This means the data is never up to date. It is a state at a specific time. This means that the conclusions are only valid for the period until 2023 (last data update). Games released after 2023 are not mentioned in this dataset and the values of older games are not up to date.\n",
    "\n",
    "\n",
    "Still, there are some perspectives with this data. We can think about different projects and analysis based on this dataset.\n",
    "\n",
    "Many examples can come to mind :\n",
    "- Game finder, based on success, genre, platform, developers, etc.\n",
    "- Comparison between platforms\n",
    "- Word analysis based on titles or summaries\n",
    "- etc.\n",
    "\n",
    "The dataset could also be cross-referenced with other data to extend the possibilities.\n",
    "\n",
    "</div>"
   ]
  }
 ],
 "metadata": {
  "kernelspec": {
   "display_name": ".venv",
   "language": "python",
   "name": "python3"
  },
  "language_info": {
   "codemirror_mode": {
    "name": "ipython",
    "version": 3
   },
   "file_extension": ".py",
   "mimetype": "text/x-python",
   "name": "python",
   "nbconvert_exporter": "python",
   "pygments_lexer": "ipython3",
   "version": "3.13.1"
  }
 },
 "nbformat": 4,
 "nbformat_minor": 2
}
