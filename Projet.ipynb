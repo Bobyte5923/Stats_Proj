{
 "cells": [
  {
   "cell_type": "markdown",
   "metadata": {},
   "source": [
    "# Titre du projet ( a décider)"
   ]
  },
  {
   "cell_type": "markdown",
   "metadata": {},
   "source": [
    "## Sommaire\n",
    "\n",
    "1. Number of games by genre.\n",
    "2. Most played games.\n",
    "3. Correlation between release date and ~reviews/plays.\n",
    "\n",
    "## Introduction\n",
    "\n",
    "Ce projet a pour but d'analyser statistiquement une base de données de jeux vidéo, en répondant à des questions  sur leurs caractéristiques, leur popularité et leur évolution dans le temps. sur un large ensemble. Puis d’en extraire des informations clés sur leurs genres, leur popularité, et leur évolution temporelle ???."
   ]
  },
  {
   "cell_type": "code",
   "execution_count": null,
   "metadata": {},
   "outputs": [],
   "source": [
    "# Install dependencies\n",
    "\n",
    "#!pip install pandas matplotlib ipywidgets kaggle"
   ]
  },
  {
   "cell_type": "markdown",
   "metadata": {},
   "source": [
    "1. Number of games by genre.\n",
    "We use \"Genres\" columns."
   ]
  },
  {
   "cell_type": "code",
   "execution_count": null,
   "metadata": {},
   "outputs": [],
   "source": [
    "# Loading data\n",
    "import os\n",
    "import pandas as pd\n",
    "\n",
    "file_path = \"Datasets/Data/backloggd_games.csv\"\n",
    "\n",
    "if os.path.exists(file_path):\n",
    "    df = pd.read_csv(file_path)\n",
    "    print(df.shape) # row and columns\n",
    "    print(df.columns) # name/index\n",
    "    df.head() # Preview\n",
    "\n",
    "else:\n",
    "    print(\"The file does not exist. Check the path or place the file in the correct location\")"
   ]
  },
  {
   "cell_type": "code",
   "execution_count": null,
   "metadata": {},
   "outputs": [],
   "source": [
    "# Remove missing values, convert to string, and clean characters like [], '\n",
    "all_genres = df['Genres'].dropna().astype(str).str.replace(r'[\\[\\]\\']', '', regex=True)\n",
    "\n",
    "# Split genres by comma, explode into rows, and strip whitespace\n",
    "all_genres = all_genres.str.split(',').explode().str.strip()\n",
    "\n",
    "\n",
    "# We remove empty genres \n",
    "all_genres = all_genres[all_genres != \"\"]\n",
    "\n",
    "print(all_genres)\n"
   ]
  },
  {
   "cell_type": "code",
   "execution_count": null,
   "metadata": {},
   "outputs": [],
   "source": [
    "# Counting occurrences\n",
    "genre_counts = all_genres.value_counts()\n",
    "print(\"Number of games by genre :\\n\", genre_counts.head(10))"
   ]
  },
  {
   "cell_type": "code",
   "execution_count": null,
   "metadata": {},
   "outputs": [],
   "source": [
    "import matplotlib.pyplot as plt\n",
    "from ipywidgets import IntSlider, interactive_output, VBox\n",
    "from IPython.display import display \n",
    "\n",
    "# Widget to select how many genres to display\n",
    "top_n_slider1 = IntSlider(value=10, min=1, max=23, step=1, description='Top Game Genres:')\n",
    "\n",
    "# Graphical\n",
    "def plot_top_n1(n):\n",
    "    plt.figure(figsize=(12, 6))\n",
    "    genre_counts.head(n).plot(kind='bar')\n",
    "    plt.title(f\"Top {n} Game Genres\")\n",
    "    plt.xlabel(\"Genre\")\n",
    "    plt.ylabel(\"Number of games\")\n",
    "    plt.xticks(rotation=0)\n",
    "    plt.tight_layout()\n",
    "    plt.show()\n",
    "\n",
    "\n",
    "# Binding and display\n",
    "display(VBox([top_n_slider1, interactive_output(plot_top_n1, {'n': top_n_slider1})]))"
   ]
  },
  {
   "cell_type": "markdown",
   "metadata": {},
   "source": [
    "2. Most played games.\n",
    "We use \"Plays\" and \"Title\" columns."
   ]
  },
  {
   "cell_type": "code",
   "execution_count": 2,
   "metadata": {},
   "outputs": [],
   "source": [
    "import pandas as pd\n",
    "import matplotlib.pyplot as plt\n",
    "from ipywidgets import IntSlider, interactive_output, VBox\n",
    "from IPython.display import display\n",
    "\n",
    "df = pd.read_csv(\"Datasets/Data/backloggd_games.csv\")\n",
    "\n",
    "# Convert K and M abbreviations to integers\n",
    "def parse_play_count(x):\n",
    "    x = str(x).replace(',', '').strip().upper()\n",
    "    if x.endswith('K'):\n",
    "        return int(float(x[:-1]) * 1_000)\n",
    "    elif x.endswith('M'):\n",
    "        return int(float(x[:-1]) * 1_000_000)\n",
    "    elif x.isdigit():\n",
    "        return int(x)\n",
    "    else:\n",
    "        return None\n",
    "\n",
    "# Parsing\n",
    "df['Cumulative_number_plays'] = df['Plays'].apply(parse_play_count)\n",
    "df = df[df['Title'].notna() & df['Cumulative_number_plays'].notna()]\n"
   ]
  },
  {
   "cell_type": "code",
   "execution_count": null,
   "metadata": {},
   "outputs": [
    {
     "data": {
      "application/vnd.jupyter.widget-view+json": {
       "model_id": "575fe6878c734e8c8e706320cadb8ff1",
       "version_major": 2,
       "version_minor": 0
      },
      "text/plain": [
       "VBox(children=(IntSlider(value=10, description='Top Played Games:', min=1), Output()))"
      ]
     },
     "metadata": {},
     "output_type": "display_data"
    }
   ],
   "source": [
    "\n",
    "# Widget to select how many genres to display\n",
    "top_n_slider2 = IntSlider(value=10, min=1, max=100, step=1, description='Top Played Games:')\n",
    "\n",
    "# Graphical\n",
    "def plot_top_n2(n):\n",
    "    top_df = df[['Title', 'Cumulative_number_plays']] \\\n",
    "        .sort_values(by='Cumulative_number_plays', ascending=False) \\\n",
    "        .head(n)\n",
    "\n",
    "    plt.figure(figsize=(12, 10))\n",
    "    plt.bar(top_df['Title'], top_df['Cumulative_number_plays'])\n",
    "    plt.title(f\"Top {n} Most played games\")\n",
    "    plt.xlabel(\"Title of games\")\n",
    "    plt.ylabel(\"Number of games\")\n",
    "    plt.xticks(rotation=45, ha='right')\n",
    "    plt.tight_layout()\n",
    "    plt.show()\n",
    "\n",
    "# Binding and display\n",
    "display(VBox([top_n_slider2, interactive_output(plot_top_n2, {'n': top_n_slider2})]))\n"
   ]
  }
 ],
 "metadata": {
  "kernelspec": {
   "display_name": "Python 3",
   "language": "python",
   "name": "python3"
  },
  "language_info": {
   "codemirror_mode": {
    "name": "ipython",
    "version": 3
   },
   "file_extension": ".py",
   "mimetype": "text/x-python",
   "name": "python",
   "nbconvert_exporter": "python",
   "pygments_lexer": "ipython3",
   "version": "3.12.6"
  }
 },
 "nbformat": 4,
 "nbformat_minor": 2
}
