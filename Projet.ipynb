{
 "cells": [
  {
   "cell_type": "markdown",
   "metadata": {},
   "source": [
    "# Titre du projet ( a décider)"
   ]
  },
  {
   "cell_type": "code",
   "execution_count": 60,
   "metadata": {},
   "outputs": [
    {
     "ename": "SyntaxError",
     "evalue": "invalid syntax (1943317614.py, line 3)",
     "output_type": "error",
     "traceback": [
      "\u001b[1;36m  Cell \u001b[1;32mIn[60], line 3\u001b[1;36m\u001b[0m\n\u001b[1;33m    1. Number of games by genre.\u001b[0m\n\u001b[1;37m       ^\u001b[0m\n\u001b[1;31mSyntaxError\u001b[0m\u001b[1;31m:\u001b[0m invalid syntax\n"
     ]
    }
   ],
   "source": [
    "## Sommaire\n",
    "\n",
    "1. Number of games by genre.\n",
    "2. Most played games.\n",
    "3. Correlation between release date and ~reviews/plays.\n",
    "\n",
    "## Introduction\n",
    "\n",
    "Blabla"
   ]
  },
  {
   "cell_type": "code",
   "execution_count": 61,
   "metadata": {},
   "outputs": [
    {
     "name": "stdout",
     "output_type": "stream",
     "text": [
      "Requirement already satisfied: pandas in c:\\program files\\python312\\lib\\site-packages (2.2.3)\n",
      "Requirement already satisfied: matplotlib in c:\\program files\\python312\\lib\\site-packages (3.9.3)\n",
      "Requirement already satisfied: ipywidgets in c:\\program files\\python312\\lib\\site-packages (8.1.5)\n",
      "Requirement already satisfied: kaggle in c:\\program files\\python312\\lib\\site-packages (1.7.4.5)\n",
      "Requirement already satisfied: numpy>=1.26.0 in c:\\program files\\python312\\lib\\site-packages (from pandas) (2.1.3)\n",
      "Requirement already satisfied: python-dateutil>=2.8.2 in c:\\program files\\python312\\lib\\site-packages (from pandas) (2.9.0.post0)\n",
      "Requirement already satisfied: pytz>=2020.1 in c:\\program files\\python312\\lib\\site-packages (from pandas) (2024.2)\n",
      "Requirement already satisfied: tzdata>=2022.7 in c:\\program files\\python312\\lib\\site-packages (from pandas) (2024.2)\n",
      "Requirement already satisfied: contourpy>=1.0.1 in c:\\program files\\python312\\lib\\site-packages (from matplotlib) (1.3.1)\n",
      "Requirement already satisfied: cycler>=0.10 in c:\\program files\\python312\\lib\\site-packages (from matplotlib) (0.12.1)\n",
      "Requirement already satisfied: fonttools>=4.22.0 in c:\\program files\\python312\\lib\\site-packages (from matplotlib) (4.55.2)\n",
      "Requirement already satisfied: kiwisolver>=1.3.1 in c:\\program files\\python312\\lib\\site-packages (from matplotlib) (1.4.7)\n",
      "Requirement already satisfied: packaging>=20.0 in c:\\program files\\python312\\lib\\site-packages (from matplotlib) (24.2)\n",
      "Requirement already satisfied: pillow>=8 in c:\\program files\\python312\\lib\\site-packages (from matplotlib) (11.0.0)\n",
      "Requirement already satisfied: pyparsing>=2.3.1 in c:\\program files\\python312\\lib\\site-packages (from matplotlib) (3.2.0)\n",
      "Requirement already satisfied: comm>=0.1.3 in c:\\program files\\python312\\lib\\site-packages (from ipywidgets) (0.2.2)\n",
      "Requirement already satisfied: ipython>=6.1.0 in c:\\program files\\python312\\lib\\site-packages (from ipywidgets) (8.30.0)\n",
      "Requirement already satisfied: traitlets>=4.3.1 in c:\\program files\\python312\\lib\\site-packages (from ipywidgets) (5.14.3)\n",
      "Requirement already satisfied: widgetsnbextension~=4.0.12 in c:\\program files\\python312\\lib\\site-packages (from ipywidgets) (4.0.13)\n",
      "Requirement already satisfied: jupyterlab-widgets~=3.0.12 in c:\\program files\\python312\\lib\\site-packages (from ipywidgets) (3.0.13)\n",
      "Requirement already satisfied: bleach in c:\\program files\\python312\\lib\\site-packages (from kaggle) (6.2.0)\n",
      "Requirement already satisfied: certifi>=14.05.14 in c:\\program files\\python312\\lib\\site-packages (from kaggle) (2024.8.30)\n",
      "Requirement already satisfied: charset-normalizer in c:\\program files\\python312\\lib\\site-packages (from kaggle) (3.4.0)\n",
      "Requirement already satisfied: idna in c:\\program files\\python312\\lib\\site-packages (from kaggle) (3.10)\n",
      "Requirement already satisfied: protobuf in c:\\program files\\python312\\lib\\site-packages (from kaggle) (5.29.4)\n",
      "Requirement already satisfied: python-slugify in c:\\program files\\python312\\lib\\site-packages (from kaggle) (8.0.4)\n",
      "Requirement already satisfied: requests in c:\\program files\\python312\\lib\\site-packages (from kaggle) (2.32.3)\n",
      "Requirement already satisfied: setuptools>=21.0.0 in c:\\program files\\python312\\lib\\site-packages (from kaggle) (75.6.0)\n",
      "Requirement already satisfied: six>=1.10 in c:\\program files\\python312\\lib\\site-packages (from kaggle) (1.17.0)\n",
      "Requirement already satisfied: text-unidecode in c:\\program files\\python312\\lib\\site-packages (from kaggle) (1.3)\n",
      "Requirement already satisfied: tqdm in c:\\program files\\python312\\lib\\site-packages (from kaggle) (4.67.1)\n",
      "Requirement already satisfied: urllib3>=1.15.1 in c:\\program files\\python312\\lib\\site-packages (from kaggle) (2.2.3)\n",
      "Requirement already satisfied: webencodings in c:\\program files\\python312\\lib\\site-packages (from kaggle) (0.5.1)\n",
      "Requirement already satisfied: colorama in c:\\program files\\python312\\lib\\site-packages (from ipython>=6.1.0->ipywidgets) (0.4.6)\n",
      "Requirement already satisfied: decorator in c:\\program files\\python312\\lib\\site-packages (from ipython>=6.1.0->ipywidgets) (5.1.1)\n",
      "Requirement already satisfied: jedi>=0.16 in c:\\program files\\python312\\lib\\site-packages (from ipython>=6.1.0->ipywidgets) (0.19.2)\n",
      "Requirement already satisfied: matplotlib-inline in c:\\program files\\python312\\lib\\site-packages (from ipython>=6.1.0->ipywidgets) (0.1.7)\n",
      "Requirement already satisfied: prompt_toolkit<3.1.0,>=3.0.41 in c:\\program files\\python312\\lib\\site-packages (from ipython>=6.1.0->ipywidgets) (3.0.48)\n",
      "Requirement already satisfied: pygments>=2.4.0 in c:\\program files\\python312\\lib\\site-packages (from ipython>=6.1.0->ipywidgets) (2.18.0)\n",
      "Requirement already satisfied: stack_data in c:\\program files\\python312\\lib\\site-packages (from ipython>=6.1.0->ipywidgets) (0.6.3)\n",
      "Requirement already satisfied: wcwidth in c:\\program files\\python312\\lib\\site-packages (from prompt_toolkit<3.1.0,>=3.0.41->ipython>=6.1.0->ipywidgets) (0.2.13)\n",
      "Requirement already satisfied: parso<0.9.0,>=0.8.4 in c:\\program files\\python312\\lib\\site-packages (from jedi>=0.16->ipython>=6.1.0->ipywidgets) (0.8.4)\n",
      "Requirement already satisfied: executing>=1.2.0 in c:\\program files\\python312\\lib\\site-packages (from stack_data->ipython>=6.1.0->ipywidgets) (2.1.0)\n",
      "Requirement already satisfied: asttokens>=2.1.0 in c:\\program files\\python312\\lib\\site-packages (from stack_data->ipython>=6.1.0->ipywidgets) (3.0.0)\n",
      "Requirement already satisfied: pure-eval in c:\\program files\\python312\\lib\\site-packages (from stack_data->ipython>=6.1.0->ipywidgets) (0.2.3)\n"
     ]
    }
   ],
   "source": [
    "# Install dependencies\n",
    "\n",
    "!pip install pandas matplotlib ipywidgets kaggle"
   ]
  },
  {
   "cell_type": "markdown",
   "metadata": {},
   "source": [
    "1. Number of games by genre."
   ]
  },
  {
   "cell_type": "code",
   "execution_count": 62,
   "metadata": {},
   "outputs": [
    {
     "name": "stdout",
     "output_type": "stream",
     "text": [
      "(60000, 14)\n",
      "Index(['Unnamed: 0', 'Title', 'Release_Date', 'Developers', 'Summary',\n",
      "       'Platforms', 'Genres', 'Rating', 'Plays', 'Playing', 'Backlogs',\n",
      "       'Wishlist', 'Lists', 'Reviews'],\n",
      "      dtype='object')\n"
     ]
    }
   ],
   "source": [
    "# Loading data\n",
    "import os\n",
    "import pandas as pd\n",
    "\n",
    "file_path = \"Datasets/Data/backloggd_games.csv\"\n",
    "\n",
    "if os.path.exists(file_path):\n",
    "    df = pd.read_csv(file_path)\n",
    "    print(df.shape) # row and columns\n",
    "    print(df.columns) # name/index\n",
    "    df.head() # Preview\n",
    "\n",
    "else:\n",
    "    print(\"The file does not exist. Check the path or place the file in the correct location\")\n"
   ]
  },
  {
   "cell_type": "code",
   "execution_count": 63,
   "metadata": {},
   "outputs": [],
   "source": [
    "# Remove missing values, convert to string, and clean characters like [], '\n",
    "all_genres = df['Genres'].dropna().astype(str).str.replace(r'[\\[\\]\\']', '', regex=True)\n",
    "\n",
    "# Split genres by comma, explode into rows, and strip whitespace\n",
    "all_genres = all_genres.str.split(',').explode().str.strip()\n",
    "\n",
    "\n",
    "# We remove empty genres \n",
    "all_genres = all_genres[all_genres != \"\"]\n"
   ]
  },
  {
   "cell_type": "code",
   "execution_count": 64,
   "metadata": {},
   "outputs": [
    {
     "name": "stdout",
     "output_type": "stream",
     "text": [
      "Number of games by genre :\n",
      " Genres\n",
      "Adventure    19368\n",
      "Indie        16816\n",
      "RPG           9234\n",
      "Simulator     8050\n",
      "Strategy      7766\n",
      "Shooter       7258\n",
      "Puzzle        6935\n",
      "Platform      6126\n",
      "Arcade        5603\n",
      "Sport         3912\n",
      "Name: count, dtype: int64\n"
     ]
    }
   ],
   "source": [
    "# Counting occurrences\n",
    "genre_counts = all_genres.value_counts()\n",
    "print(\"Number of games by genre :\\n\", genre_counts.head(10))"
   ]
  },
  {
   "cell_type": "code",
   "execution_count": 65,
   "metadata": {},
   "outputs": [
    {
     "data": {
      "image/png": "[encoded data removed]",
      "text/plain": [
       "<Figure size 1200x600 with 1 Axes>"
      ]
     },
     "metadata": {},
     "output_type": "display_data"
    }
   ],
   "source": [
    "import matplotlib.pyplot as plt\n",
    "\n",
    "# Graphical \n",
    "plt.figure(figsize=(12, 6))\n",
    "genre_counts.head(10).plot(kind='bar')\n",
    "plt.title(\"Number of games by genre\")\n",
    "plt.xlabel(\"Genre\")\n",
    "plt.ylabel(\"Number of games\")\n",
    "plt.xticks(rotation=0)\n",
    "plt.show()\n"
   ]
  },
  {
   "cell_type": "code",
   "execution_count": null,
   "metadata": {},
   "outputs": [],
   "source": []
  }
 ],
 "metadata": {
  "kernelspec": {
   "display_name": "Python 3",
   "language": "python",
   "name": "python3"
  },
  "language_info": {
   "codemirror_mode": {
    "name": "ipython",
    "version": 3
   },
   "file_extension": ".py",
   "mimetype": "text/x-python",
   "name": "python",
   "nbconvert_exporter": "python",
   "pygments_lexer": "ipython3",
   "version": "3.12.6"
  }
 },
 "nbformat": 4,
 "nbformat_minor": 2
}
