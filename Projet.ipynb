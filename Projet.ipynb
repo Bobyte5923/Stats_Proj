{
 "cells": [
  {
   "cell_type": "markdown",
   "metadata": {},
   "source": [
    "# Best video games from 1952 to 2029\n",
    "\n",
    "### Auteurs : Ayman Akram & Rafael Teixeira\n",
    "\n",
    "### Prof. Benoit Le Callennec"
   ]
  },
  {
   "cell_type": "markdown",
   "metadata": {},
   "source": [
    "## Table of contents\n",
    "\n",
    "- [Introduction](#introduction)\n",
    "- [Data import and cleaning](#data-important-and-cleaning)\n",
    "- [Data analysis](#data-analysis)\n",
    "  - [Number of game per genre](#number-of-games-per-genre)\n",
    "  - [Most played games](#most-played-games)\n",
    "  - [Success per genre over the years](#success-per-genre-over-the-years)\n",
    "\n",
    "## Introduction\n",
    "\n",
    "Ce projet a pour but d'analyser statistiquement une base de données de jeux vidéo, en répondant à des questions  sur leurs caractéristiques, leur popularité et leur évolution dans le temps. sur un large ensemble. Puis d’en extraire des informations clés sur leurs genres, leur popularité, et leur évolution temporelle ???."
   ]
  },
  {
   "cell_type": "markdown",
   "metadata": {},
   "source": [
    "## Data import and cleaning\n",
    "Import the data from kaggle [(link to data)](https://www.kaggle.com/datasets/matheusfonsecachaves/popular-video-games/data?select=backloggd_games.csv).\n",
    "\n",
    "If an error succeeds during data download, a fallback file is used. This file contains a previous version of the data and so, it may not be up to date.\n"
   ]
  },
  {
   "cell_type": "markdown",
   "metadata": {},
   "source": [
    "### Load data and store it in pandas DataFrame"
   ]
  },
  {
   "cell_type": "code",
   "execution_count": 22,
   "metadata": {},
   "outputs": [
    {
     "name": "stdout",
     "output_type": "stream",
     "text": [
      "Last version of file successfully loaded from kaggle.\n",
      "Path to dataset file: C:\\Users\\teixe\\.cache\\kagglehub\\datasets\\matheusfonsecachaves\\popular-video-games\\versions\\1\\backloggd_games.csv\n"
     ]
    }
   ],
   "source": [
    "# Load and read data\n",
    "import os\n",
    "import pandas as pd\n",
    "import kagglehub\n",
    "\n",
    "file_path = \"\"\n",
    "FILE_NAME = \"backloggd_games.csv\"\n",
    "FALLBACK_PATH = \"Datasets/\"\n",
    "\n",
    "try:\n",
    "    # Download last version of dataset from kaggle\n",
    "    path = kagglehub.dataset_download(\"matheusfonsecachaves/popular-video-games\")\n",
    "    print(\"Last version of file successfully loaded from kaggle.\")\n",
    "    file_path = path + \"\\\\\" + FILE_NAME\n",
    "\n",
    "except:\n",
    "    # If an exception is raised when downloading last version of dataset, the locally saved version is used. It may no be up to date\n",
    "    print(\"Last version could not be successfully loaded from kaggle.\\nThe locally saved dataset will be used but it may not be up to date.\")\n",
    "    file_path = FALLBACK_PATH + FILE_NAME\n",
    "\n",
    "print(\"Path to dataset file:\", file_path)\n",
    "\n",
    "if os.path.exists(file_path):\n",
    "    df = pd.read_csv(file_path)\n",
    "\n",
    "else:\n",
    "    print(\"The file does not exist. Check the path or place the file in the correct location.\")"
   ]
  },
  {
   "cell_type": "markdown",
   "metadata": {},
   "source": [
    "### Data basic verifications"
   ]
  },
  {
   "cell_type": "code",
   "execution_count": 23,
   "metadata": {},
   "outputs": [
    {
     "name": "stdout",
     "output_type": "stream",
     "text": [
      "DataFrame shape : (60000, 14)\n",
      "DataFrame info :\n",
      "<class 'pandas.core.frame.DataFrame'>\n",
      "RangeIndex: 60000 entries, 0 to 59999\n",
      "Data columns (total 14 columns):\n",
      " #   Column        Non-Null Count  Dtype  \n",
      "---  ------        --------------  -----  \n",
      " 0   Unnamed: 0    60000 non-null  int64  \n",
      " 1   Title         60000 non-null  object \n",
      " 2   Release_Date  60000 non-null  object \n",
      " 3   Developers    60000 non-null  object \n",
      " 4   Summary       55046 non-null  object \n",
      " 5   Platforms     60000 non-null  object \n",
      " 6   Genres        60000 non-null  object \n",
      " 7   Rating        25405 non-null  float64\n",
      " 8   Plays         60000 non-null  object \n",
      " 9   Playing       60000 non-null  object \n",
      " 10  Backlogs      60000 non-null  object \n",
      " 11  Wishlist      60000 non-null  object \n",
      " 12  Lists         60000 non-null  object \n",
      " 13  Reviews       60000 non-null  object \n",
      "dtypes: float64(1), int64(1), object(12)\n",
      "memory usage: 6.4+ MB\n",
      "DataFrame head :\n",
      "   Unnamed: 0                                    Title  Release_Date  \\\n",
      "0           0                               Elden Ring  Feb 25, 2022   \n",
      "1           1  The Legend of Zelda: Breath of the Wild  Mar 03, 2017   \n",
      "2           2                                    Hades  Dec 07, 2018   \n",
      "3           3                            Hollow Knight  Feb 24, 2017   \n",
      "4           4                                Undertale  Sep 15, 2015   \n",
      "5           5                                Minecraft  Nov 18, 2011   \n",
      "\n",
      "                                          Developers  \\\n",
      "0     ['FromSoftware', 'Bandai Namco Entertainment']   \n",
      "1  ['Nintendo', 'Nintendo EPD Production Group No...   \n",
      "2                               ['Supergiant Games']   \n",
      "3                                    ['Team Cherry']   \n",
      "4                                 ['tobyfox', '8-4']   \n",
      "5                                 ['Mojang Studios']   \n",
      "\n",
      "                                             Summary  \\\n",
      "0  Elden Ring is a fantasy, action and open world...   \n",
      "1  The Legend of Zelda: Breath of the Wild is the...   \n",
      "2  A rogue-lite hack and slash dungeon crawler in...   \n",
      "3  A 2D metroidvania with an emphasis on close co...   \n",
      "4  A small child falls into the Underground, wher...   \n",
      "5  Minecraft focuses on allowing the player to ex...   \n",
      "\n",
      "                                           Platforms  \\\n",
      "0  ['Windows PC', 'PlayStation 4', 'Xbox One', 'P...   \n",
      "1                       ['Wii U', 'Nintendo Switch']   \n",
      "2  ['Windows PC', 'Mac', 'PlayStation 4', 'Xbox O...   \n",
      "3  ['Windows PC', 'Mac', 'Linux', 'Nintendo Switch']   \n",
      "4  ['Windows PC', 'Mac', 'Linux', 'PlayStation 4'...   \n",
      "5                     ['Windows PC', 'Mac', 'Linux']   \n",
      "\n",
      "                                              Genres  Rating Plays Playing  \\\n",
      "0                               ['Adventure', 'RPG']     4.5   21K    4.1K   \n",
      "1                            ['Adventure', 'Puzzle']     4.4   35K    3.1K   \n",
      "2           ['Adventure', 'Brawler', 'Indie', 'RPG']     4.3   25K    3.5K   \n",
      "3                 ['Adventure', 'Indie', 'Platform']     4.4   25K    2.7K   \n",
      "4  ['Adventure', 'Indie', 'RPG', 'Turn Based Stra...     4.2   32K     728   \n",
      "5                         ['Adventure', 'Simulator']     4.3   38K    2.1K   \n",
      "\n",
      "  Backlogs Wishlist Lists Reviews  \n",
      "0     5.6K     5.5K  4.6K      3K  \n",
      "1     5.6K       3K  5.1K      3K  \n",
      "2     7.3K       4K  3.2K    2.1K  \n",
      "3     9.6K     2.6K  3.4K    2.1K  \n",
      "4     5.7K     2.1K  3.9K    2.5K  \n",
      "5     1.3K      265  2.6K    2.7K  \n"
     ]
    }
   ],
   "source": [
    "# Data basic verification : shape of dataFrame, columns informations and head\n",
    "print(\"DataFrame shape : \" + str(df.shape)) # row and columns\n",
    "print(\"DataFrame info :\")\n",
    "df.info()\n",
    "print(\"DataFrame head :\")\n",
    "print(df.head(6)) # Preview"
   ]
  },
  {
   "cell_type": "markdown",
   "metadata": {},
   "source": [
    "### Null data and duplicates analysis"
   ]
  },
  {
   "cell_type": "code",
   "execution_count": 24,
   "metadata": {},
   "outputs": [
    {
     "data": {
      "text/plain": [
       "Unnamed: 0          0\n",
       "Title               0\n",
       "Release_Date        0\n",
       "Developers          0\n",
       "Summary          4954\n",
       "Platforms           0\n",
       "Genres              0\n",
       "Rating          34595\n",
       "Plays               0\n",
       "Playing             0\n",
       "Backlogs            0\n",
       "Wishlist            0\n",
       "Lists               0\n",
       "Reviews             0\n",
       "dtype: int64"
      ]
     },
     "execution_count": 24,
     "metadata": {},
     "output_type": "execute_result"
    }
   ],
   "source": [
    "# Null verification\n",
    "df.isnull().sum()"
   ]
  },
  {
   "cell_type": "markdown",
   "metadata": {},
   "source": [
    "Null data analysis shows that 34595 entries have a null value on Rating column.\n",
    "\n",
    "If those entries are deleted, half of the data would be lost.\n",
    "\n",
    "Rating column is not used on some analysis. Those entries will only be dropped when Rating is column is needed. All data is kept for the other analysis."
   ]
  },
  {
   "cell_type": "code",
   "execution_count": 25,
   "metadata": {},
   "outputs": [
    {
     "data": {
      "text/plain": [
       "np.int64(0)"
      ]
     },
     "execution_count": 25,
     "metadata": {},
     "output_type": "execute_result"
    }
   ],
   "source": [
    "df.duplicated().sum()"
   ]
  },
  {
   "cell_type": "markdown",
   "metadata": {},
   "source": [
    "The is no duplicate entry in the dataset."
   ]
  },
  {
   "cell_type": "markdown",
   "metadata": {},
   "source": [
    "### Transform date column values to numpy date\n",
    "\n",
    "The Release_Date column contains dates with the following format.\n",
    "\n",
    "For example 2 February 2023 will be Feb 02, 2023.\n",
    "\n",
    "To work with those dates, they must be converted to a more convenient format such as numpy date.\n",
    "\n",
    "When analysing the data of this column, some undefined dates can be found. Their value is 'TBD' and we choose to turn it to Nan so it is easier to remove when needed.\n",
    "\n",
    "The column \"Release_Date\" values are replaced by their equivalent numpy date value or by numpy.nan if they do not match the defined date pattern.\n"
   ]
  },
  {
   "cell_type": "code",
   "execution_count": 26,
   "metadata": {},
   "outputs": [
    {
     "name": "stdout",
     "output_type": "stream",
     "text": [
      "<class 'pandas.core.frame.DataFrame'>\n",
      "RangeIndex: 60000 entries, 0 to 59999\n",
      "Data columns (total 15 columns):\n",
      " #   Column                  Non-Null Count  Dtype         \n",
      "---  ------                  --------------  -----         \n",
      " 0   Unnamed: 0              60000 non-null  int64         \n",
      " 1   Title                   60000 non-null  object        \n",
      " 2   Release_Date            60000 non-null  object        \n",
      " 3   Developers              60000 non-null  object        \n",
      " 4   Summary                 55046 non-null  object        \n",
      " 5   Platforms               60000 non-null  object        \n",
      " 6   Genres                  60000 non-null  object        \n",
      " 7   Rating                  25405 non-null  float64       \n",
      " 8   Plays                   60000 non-null  object        \n",
      " 9   Playing                 60000 non-null  object        \n",
      " 10  Backlogs                60000 non-null  object        \n",
      " 11  Wishlist                60000 non-null  object        \n",
      " 12  Lists                   60000 non-null  object        \n",
      " 13  Reviews                 60000 non-null  object        \n",
      " 14  Release_date_converted  51981 non-null  datetime64[ns]\n",
      "dtypes: datetime64[ns](1), float64(1), int64(1), object(12)\n",
      "memory usage: 6.9+ MB\n"
     ]
    }
   ],
   "source": [
    "import re\n",
    "import numpy as np\n",
    "\n",
    "## Analyse type of data :\n",
    "DATE_REGEX = re.compile(r'[A-Z]{3} \\d\\d, \\d{4}', re.I)\n",
    "MONTH_REGEX = re.compile(r'[A-Z]{3}', re.I)\n",
    "DAY_REGEX = re.compile(r'\\d{2}(?=,)')\n",
    "YEAR_REGEX = re.compile(r'(\\d{4}$)')\n",
    "\n",
    "MONTH_DICT = {\"jan\":1,\"feb\":2,\"mar\":3,\"apr\":4,\"may\":5,\"jun\":6,\"jul\":7,\"aug\":8,\"sep\":9,\"oct\":10,\"nov\":11,\"dec\":12}\n",
    "\n",
    "def mapMonth(dateStr):\n",
    "    global DATE_REGEX\n",
    "    matches = re.match(DATE_REGEX, dateStr)\n",
    "    if matches:\n",
    "        return convertToNumpyDate(matches[0])\n",
    "    else:\n",
    "        return np.nan\n",
    "\n",
    "def convertToNumpyDate(dateStr):\n",
    "    global MONTH_REGEX, DAY_REGEX, YEAR_REGEX, MONTH_DICT\n",
    "    # Find month :\n",
    "    monthStr = re.search(MONTH_REGEX, dateStr)[0].lower()\n",
    "    month = MONTH_DICT[monthStr]\n",
    "    day = int(re.search(DAY_REGEX, dateStr)[0])\n",
    "    year = int(re.search(YEAR_REGEX, dateStr)[0])\n",
    "    return np.datetime64(f\"{year}-{month:02d}-{day:02d}\")\n",
    "\n",
    "\n",
    "df['Release_date_converted'] = df['Release_Date'].map(mapMonth)\n",
    "df.info()"
   ]
  },
  {
   "cell_type": "markdown",
   "metadata": {},
   "source": [
    "### Transform Plays from string to number\n",
    "The data in 'Plays' column is at string format of type 2K, 2M, etc.\n",
    "\n",
    "We convert those values to number, removing the suffix K or M and multiplying by the right multiplier (1'000 or 1'000'000)."
   ]
  },
  {
   "cell_type": "code",
   "execution_count": 27,
   "metadata": {},
   "outputs": [],
   "source": [
    "# Convert K and M abbreviations to integers\n",
    "def parse_play_count(x):\n",
    "    x = str(x).replace(',', '').strip().upper()\n",
    "    if x.endswith('K'):\n",
    "        return int(float(x[:-1]) * 1_000)\n",
    "    elif x.endswith('M'):\n",
    "        return int(float(x[:-1]) * 1_000_000)\n",
    "    elif x.isdigit():\n",
    "        return int(x)\n",
    "    else:\n",
    "        return None  # to invalid values\n",
    "\n",
    "df['Plays'] = df['Plays'].apply(parse_play_count)"
   ]
  },
  {
   "cell_type": "markdown",
   "metadata": {},
   "source": [
    "### Drop unused colums"
   ]
  },
  {
   "cell_type": "code",
   "execution_count": 28,
   "metadata": {},
   "outputs": [
    {
     "data": {
      "text/plain": [
       "(60000, 8)"
      ]
     },
     "execution_count": 28,
     "metadata": {},
     "output_type": "execute_result"
    }
   ],
   "source": [
    "try :\n",
    "    df.drop([\"Developers\", \"Summary\", \"Platforms\", \"Playing\", \"Backlogs\", \"Wishlist\", \"Lists\"], axis=1, inplace=True)\n",
    "except Exception as e:\n",
    "    print(\"An error was raised. It could be because columns have already been erased.\")\n",
    "    print(e)\n",
    "df.shape"
   ]
  },
  {
   "cell_type": "markdown",
   "metadata": {},
   "source": [
    "## Data analysis"
   ]
  },
  {
   "cell_type": "markdown",
   "metadata": {},
   "source": [
    "\n",
    "### Number of games per genre\n",
    "We use \"Genres\" columns."
   ]
  },
  {
   "cell_type": "code",
   "execution_count": 29,
   "metadata": {},
   "outputs": [
    {
     "name": "stdout",
     "output_type": "stream",
     "text": [
      "0        Adventure\n",
      "0              RPG\n",
      "1        Adventure\n",
      "1           Puzzle\n",
      "2        Adventure\n",
      "           ...    \n",
      "59996     Tactical\n",
      "59997             \n",
      "59998          RPG\n",
      "59999          RPG\n",
      "59999     Tactical\n",
      "Name: Genres, Length: 115198, dtype: object\n"
     ]
    }
   ],
   "source": [
    "# Remove missing values, convert to string, and clean characters like [], '\n",
    "all_genres = df['Genres'].dropna().astype(str).str.replace(r'[\\[\\]\\']', '', regex=True)\n",
    "\n",
    "# Split genres by comma, explode into rows, and strip whitespace\n",
    "all_genres = all_genres.str.split(',').explode().str.strip()\n",
    "print(all_genres)\n",
    "\n",
    "# We remove empty genres \n",
    "all_genres = all_genres[all_genres != \"\"]\n"
   ]
  },
  {
   "cell_type": "code",
   "execution_count": 30,
   "metadata": {},
   "outputs": [
    {
     "name": "stdout",
     "output_type": "stream",
     "text": [
      "Number of games by genre :\n",
      " Genres\n",
      "Adventure    19368\n",
      "Indie        16816\n",
      "RPG           9234\n",
      "Simulator     8050\n",
      "Strategy      7766\n",
      "Shooter       7258\n",
      "Puzzle        6935\n",
      "Platform      6126\n",
      "Arcade        5603\n",
      "Sport         3912\n",
      "Name: count, dtype: int64\n"
     ]
    }
   ],
   "source": [
    "# Counting occurrences\n",
    "genre_counts = all_genres.value_counts()\n",
    "print(\"Number of games by genre :\\n\", genre_counts.head(10))"
   ]
  },
  {
   "cell_type": "code",
   "execution_count": 31,
   "metadata": {},
   "outputs": [
    {
     "data": {
      "application/vnd.jupyter.widget-view+json": {
       "model_id": "e28c59b1eda646a3b67b358efee3c83a",
       "version_major": 2,
       "version_minor": 0
      },
      "text/plain": [
       "VBox(children=(IntSlider(value=10, description='Top N:', max=23, min=1), Output()))"
      ]
     },
     "metadata": {},
     "output_type": "display_data"
    }
   ],
   "source": [
    "import matplotlib.pyplot as plt\n",
    "from ipywidgets import IntSlider, interactive_output, VBox\n",
    "from IPython.display import display \n",
    "\n",
    "# Widget to select how many genres to display\n",
    "top_n_slider = IntSlider(value=10, min=1, max=23, step=1, description='Top N:')\n",
    "\n",
    "# Graphical\n",
    "def plot_top_n(n):\n",
    "    plt.figure(figsize=(12, 6))\n",
    "    genre_counts.head(n).plot(kind='bar')\n",
    "    plt.title(f\"Top {n} Game Genres\")\n",
    "    plt.xlabel(\"Genre\")\n",
    "    plt.ylabel(\"Number of games\")\n",
    "    plt.xticks(rotation=0)\n",
    "    plt.tight_layout()\n",
    "    plt.show()\n",
    "\n",
    "\n",
    "# Binding and display\n",
    "display(VBox([top_n_slider, interactive_output(plot_top_n, {'n': top_n_slider})]))"
   ]
  },
  {
   "cell_type": "markdown",
   "metadata": {},
   "source": [
    "### Most played games\n",
    "We use \"Plays\" and \"Title\" columns."
   ]
  },
  {
   "cell_type": "code",
   "execution_count": 32,
   "metadata": {},
   "outputs": [
    {
     "name": "stdout",
     "output_type": "stream",
     "text": [
      "\n",
      "Top 10 most played games:\n",
      "                                      Title    Plays\n",
      "5                                 Minecraft  38000.0\n",
      "1   The Legend of Zelda: Breath of the Wild  35000.0\n",
      "23                       Grand Theft Auto V  35000.0\n",
      "13                                 Portal 2  34000.0\n",
      "22                                   Portal  32000.0\n",
      "4                                 Undertale  32000.0\n",
      "21                      Super Mario Odyssey  29000.0\n",
      "35               Super Smash Bros. Ultimate  29000.0\n",
      "11                                 Among Us  29000.0\n",
      "56              The Elder Scrolls V: Skyrim  26000.0\n"
     ]
    }
   ],
   "source": [
    "# Sort games by number of plays\n",
    "top_played = df[['Title', 'Plays']].sort_values(by='Plays', ascending=False)\n",
    "top_played.dropna(inplace=True)\n",
    "print(\"\\nTop 10 most played games:\")\n",
    "print(top_played.head(10))"
   ]
  },
  {
   "cell_type": "code",
   "execution_count": 33,
   "metadata": {},
   "outputs": [
    {
     "data": {
      "text/plain": [
       "<Figure size 1200x1000 with 0 Axes>"
      ]
     },
     "metadata": {},
     "output_type": "display_data"
    },
    {
     "data": {
      "image/png": "[encoded data removed]",
      "text/plain": [
       "<Figure size 640x480 with 1 Axes>"
      ]
     },
     "metadata": {},
     "output_type": "display_data"
    }
   ],
   "source": [
    "import pandas as pd\n",
    "import matplotlib.pyplot as plt\n",
    "\n",
    "def plot_nbr_of_plays_top_n_(n):\n",
    "    global top_played\n",
    "    plt.figure(figsize=(12, 10))\n",
    "    top_played.head(n).plot(x=\"Title\",y=\"Plays\",kind=\"bar\")\n",
    "    # plt.bar(top_played['Title'], top_played['Plays'])\n",
    "    plt.title(\"Top 10 Most Played Games\")\n",
    "    plt.xlabel(\"Game Title\")\n",
    "    plt.ylabel(\"Number of Plays\")\n",
    "    plt.xticks(rotation=45, ha='right')\n",
    "    plt.tight_layout()\n",
    "    plt.show()\n",
    "\n",
    "plot_nbr_of_plays_top_n_(10)\n"
   ]
  },
  {
   "cell_type": "markdown",
   "metadata": {},
   "source": [
    "### Success per genre over the years\n",
    "\n",
    "To determine the succes of a game, we consider the number of plays it has and the rate.\n",
    "\n",
    "To calculate a success score, the following formula is used :\n",
    "\n",
    "success_score = rating^4 * plays^0.5\n",
    "\n",
    "Using a power 4 on \"rating\", increases \"rating\" weight on success score.\n",
    "\n",
    "On the contrary, a power of 0.5 on \"plays\", decreases \"plays\" weight on success score.\n",
    "\n"
   ]
  },
  {
   "cell_type": "code",
   "execution_count": null,
   "metadata": {},
   "outputs": [
    {
     "data": {
      "application/vnd.jupyter.widget-view+json": {
       "model_id": "f3027bdd51244c1eaf92c90436b60783",
       "version_major": 2,
       "version_minor": 0
      },
      "text/plain": [
       "interactive(children=(Dropdown(description='Genre:', options=('', 'Adventure', 'Arcade', 'Brawler', 'Card & Bo…"
      ]
     },
     "metadata": {},
     "output_type": "display_data"
    },
    {
     "data": {
      "text/plain": [
       "<function __main__.plotChart(genre)>"
      ]
     },
     "execution_count": 41,
     "metadata": {},
     "output_type": "execute_result"
    }
   ],
   "source": [
    "import ipywidgets as widgets\n",
    "\n",
    "# Sort by Release date\n",
    "df.sort_values(\"Release_date_converted\", inplace=True)\n",
    "# Calculate Success_score for each game\n",
    "df['Weighted_rating'] = df[\"Rating\"]**4\n",
    "df['Weighted_number_plays'] = df[\"Plays\"]**0.5\n",
    "df['Success_score'] = df['Weighted_rating'] * df['Weighted_number_plays']\n",
    "\n",
    "# Get a copy of the dataframe, drop Nan values and replace\n",
    "success_score_and_genre_per_date = df[['Release_date_converted','Genres', 'Success_score']].dropna()\n",
    "\n",
    "genres = df['Genres'].str.replace(r'[\\[\\]\\']', '', regex=True).str.split(',').explode().str.strip().drop_duplicates().sort_values()\n",
    "\n",
    "genre_dropdown = widgets.Dropdown(options=genres, description=\"Genre:\")\n",
    "\n",
    "def getSuccessScoresByGenre(dataframe, genre):\n",
    "    # filter given dataframe keeping only lines where column Genres contains wanted genre\n",
    "    filtered = dataframe[dataframe[\"Genres\"].map(lambda x: genre in x)]\n",
    "    return filtered\n",
    "\n",
    "\n",
    "def plotChart(genre):\n",
    "    global success_score_and_genre_per_date\n",
    "    filtered = getSuccessScoresByGenre(success_score_and_genre_per_date, genre)\n",
    "    success_score_per_year = filtered['Success_score'].groupby(filtered['Release_date_converted'].dt.to_period(\"Y\")).sum()\n",
    "    # Convert years to int and plot\n",
    "    success_score_per_year.index = success_score_per_year.index.astype(\"str\").astype(\"int64\")\n",
    "    plt.plot(success_score_per_year.index, success_score_per_year.values,)\n",
    "    if not genre:\n",
    "        genre = \"all genre\"\n",
    "    plt.title(\"Success of \" + genre + \" games over the years\")\n",
    "    plt.xlabel(\"Release year\")\n",
    "    plt.ylabel(\"Success score\")\n",
    "    plt.tight_layout()\n",
    "\n",
    "widgets.interact(plotChart, genre=genre_dropdown)"
   ]
  },
  {
   "cell_type": "markdown",
   "metadata": {},
   "source": [
    "The above analysis shows the success score drops after 2020.\n",
    "This drop can have multiple causes but most likely is that recent games have less \"plays\" than older games.\n",
    "\n",
    "The analyzed dataset most recent games were released in 2023.\n",
    "\n",
    "We can quickly analyze when the 'Plays' value seems to start dropping (see below).\n",
    "\n",
    "We can see that it starts dropping in 2017. We can make the hypothesis that data > 2017 is not complete or is too recent game to be compared with older games."
   ]
  },
  {
   "cell_type": "code",
   "execution_count": 35,
   "metadata": {},
   "outputs": [
    {
     "data": {
      "text/plain": [
       "<bound method Series.info of Release_date_converted\n",
       "1952        32.0\n",
       "1954         3.0\n",
       "1971       475.0\n",
       "1972      2849.0\n",
       "1973       109.0\n",
       "1974       103.0\n",
       "1975        10.0\n",
       "1976       421.0\n",
       "1977       743.0\n",
       "1978      2537.0\n",
       "1979      1832.0\n",
       "1980      7452.0\n",
       "1981      9346.0\n",
       "1982     10850.0\n",
       "1983      8062.0\n",
       "1984     16849.0\n",
       "1985     33266.0\n",
       "1986     37600.0\n",
       "1987     37933.0\n",
       "1988     42358.0\n",
       "1989     47251.0\n",
       "1990     66665.0\n",
       "1991     84322.0\n",
       "1992     79591.0\n",
       "1993    104070.0\n",
       "1994    128124.0\n",
       "1995     92983.0\n",
       "1996    145677.0\n",
       "1997    141563.0\n",
       "1998    179881.0\n",
       "1999    196561.0\n",
       "2000    155391.0\n",
       "2001    257709.0\n",
       "2002    256496.0\n",
       "2003    255654.0\n",
       "2004    387148.0\n",
       "2005    357743.0\n",
       "2006    364924.0\n",
       "2007    488155.0\n",
       "2008    440060.0\n",
       "2009    483501.0\n",
       "2010    502850.0\n",
       "2011    571811.0\n",
       "2012    595573.0\n",
       "2013    640682.0\n",
       "2014    594601.0\n",
       "2015    659150.0\n",
       "2016    701383.0\n",
       "2017    734765.0\n",
       "2018    646166.0\n",
       "2019    564404.0\n",
       "2020    483523.0\n",
       "2021    375966.0\n",
       "2022    261618.0\n",
       "2023     60491.0\n",
       "2024       140.0\n",
       "2025         1.0\n",
       "2029         1.0\n",
       "Freq: Y-DEC, Name: Plays, dtype: float64>"
      ]
     },
     "execution_count": 35,
     "metadata": {},
     "output_type": "execute_result"
    },
    {
     "data": {
      "image/png": "[encoded data removed]",
      "text/plain": [
       "<Figure size 640x480 with 1 Axes>"
      ]
     },
     "metadata": {},
     "output_type": "display_data"
    }
   ],
   "source": [
    "plays_per_year = df['Plays'].groupby(df['Release_date_converted'].dt.to_period(\"Y\")).sum()\n",
    "plays_per_year.plot(kind=\"line\", marker= 'o')\n",
    "plays_per_year.info"
   ]
  }
 ],
 "metadata": {
  "kernelspec": {
   "display_name": ".venv",
   "language": "python",
   "name": "python3"
  },
  "language_info": {
   "codemirror_mode": {
    "name": "ipython",
    "version": 3
   },
   "file_extension": ".py",
   "mimetype": "text/x-python",
   "name": "python",
   "nbconvert_exporter": "python",
   "pygments_lexer": "ipython3",
   "version": "3.13.1"
  }
 },
 "nbformat": 4,
 "nbformat_minor": 2
}
